{
 "cells": [
  {
   "cell_type": "code",
   "execution_count": 1,
   "metadata": {},
   "outputs": [],
   "source": [
    "import requests, pandas as pd\n",
    "from bs4 import BeautifulSoup"
   ]
  },
  {
   "cell_type": "code",
   "execution_count": 2,
   "metadata": {},
   "outputs": [],
   "source": [
    "url = 'http://www.xinhuanet.com/'\n",
    "\n",
    "response = requests.get(url)"
   ]
  },
  {
   "cell_type": "code",
   "execution_count": 3,
   "metadata": {},
   "outputs": [],
   "source": [
    "soup = BeautifulSoup(response.text)"
   ]
  },
  {
   "cell_type": "code",
   "execution_count": 7,
   "metadata": {},
   "outputs": [
    {
     "data": {
      "text/plain": [
       "<div class=\"focus-newsText bg-white right\" id=\"focus-newsText\">\n",
       "<div class=\"list\" id=\"focusListNews\">\n",
       "<ul>\n",
       "<li class=\"active\"> <span><a href=\"http://www.news.cn/world/2022-11/25/c_1129159205.htm\" target=\"_blank\">习近平同古巴共产党中央委员会第一书记、古巴国家主席迪亚斯-卡内尔举行会谈</a><i class=\"btn-horn-box hide\"><i class=\"btn-horn\" data-tit=\"习近平同古巴共产党中央委员会第一书记、古巴国家主席迪亚斯-卡内尔举行会谈\" data-url=\"\"></i></i></span></li>\n",
       "<li> <span><a href=\"http://www.news.cn/politics/2022-11/26/c_1129162566.htm\" target=\"_blank\">跟着总书记学习二十大报告丨全面从严治党永远在路上</a><i class=\"btn-horn-box hide\"><i class=\"btn-horn\" data-tit=\"跟着总书记学习二十大报告丨全面从严治党永远在路上\" data-url=\"\"></i></i></span></li>\n",
       "<li> <span><a href=\"http://www.news.cn/politics/2022-11/26/c_1129162158.htm\" target=\"_blank\">瞭望·治国理政纪事丨让一泓清水入黄河</a><i class=\"btn-horn-box hide\"><i class=\"btn-horn\" data-tit=\"瞭望·治国理政纪事丨让一泓清水入黄河\" data-url=\"\"></i></i></span></li>\n",
       "<li> <span><a href=\"http://www.news.cn/politics/xsdxzcxwy/index.htm\" target=\"_blank\">新时代新征程新伟业|</a><a href=\"http://www.news.cn/politics/2022-11/26/c_1129162132.htm\" target=\"_blank\">“时间银行”里的“银龄”互助</a><i class=\"btn-horn-box hide\"><i class=\"btn-horn\" data-tit=\"&lt;a href='http://www.news.cn/politics/xsdxzcxwy/index.htm' target='_blank'&gt;新时代新征程新伟业|&lt;/a&gt;&lt;a href='http://www.news.cn/politics/2022-11/26/c_1129162132.htm' target='_blank'&gt;“时间银行”里的“银龄”互助&lt;/a&gt;\" data-url=\"\"></i></i></span></li>\n",
       "<li> <span><a href=\"http://www.news.cn/politics/xxgcdd20djs\" target=\"_blank\">二十大精神在基层丨</a><a href=\"http://www.news.cn/politics/2022-11/25/c_1129159813.htm\" target=\"_blank\">接过红旗渠精神“接力棒”</a><i class=\"btn-horn-box hide\"><i class=\"btn-horn\" data-tit=\"&lt;a href='http://www.news.cn/politics/xxgcdd20djs' target='_blank'&gt;二十大精神在基层丨&lt;/a&gt;&lt;a href='http://www.news.cn/politics/2022-11/25/c_1129159813.htm' target='_blank'&gt;接过红旗渠精神“接力棒”&lt;/a&gt;\" data-url=\"\"></i></i></span></li>\n",
       "<li> <span><a href=\"http://www.news.cn/politics/2022-11/26/c_1129163002.htm\" target=\"_blank\">新华时评:抗疫,每个人都是自己健康第一责任人</a><i class=\"btn-horn-box hide\"><i class=\"btn-horn\" data-tit=\"新华时评:抗疫,每个人都是自己健康第一责任人\" data-url=\"\"></i></i></span></li>\n",
       "<li> <span><a href=\"http://www.news.cn/local/2022-11/26/c_1129163039.htm\" target=\"_blank\">新疆乌鲁木齐市有序恢复低风险区生活秩序</a><i class=\"btn-horn-box hide\"><i class=\"btn-horn\" data-tit=\"新疆乌鲁木齐市有序恢复低风险区生活秩序\" data-url=\"\"></i></i></span></li>\n",
       "<li> <span><a href=\"http://www.news.cn/politics/2022-11/26/c_1129161357.htm\" target=\"_blank\">锚定目标不放松——广东打响疫情防控歼灭战</a><i class=\"btn-horn-box hide\"><i class=\"btn-horn\" data-tit=\"锚定目标不放松——广东打响疫情防控歼灭战\" data-url=\"\"></i></i></span></li>\n",
       "<li> <span><a href=\"http://www.news.cn/local/2022-11/26/c_1129161351.htm\" target=\"_blank\">北京分秒必争加固疫情防线 坚决打赢疫情防控阻击战</a><i class=\"btn-horn-box hide\"><i class=\"btn-horn\" data-tit=\"北京分秒必争加固疫情防线 坚决打赢疫情防控阻击战\" data-url=\"\"></i></i></span></li>\n",
       "<li> <span><a href=\"http://www.news.cn/politics/2022-11/26/c_1129161316.htm\" target=\"_blank\">为了山城人民生命健康——重庆坚决打赢疫情<br/>歼灭战综述</a><i class=\"btn-horn-box hide\"><i class=\"btn-horn\" data-tit=\"为了山城人民生命健康——重庆坚决打赢疫情&lt;br/&gt;歼灭战综述\" data-url=\"\"></i></i></span></li>\n",
       "<li> <span><a href=\"http://www.news.cn/politics/2022-11/25/c_1129160605.htm\" target=\"_blank\">如何纠正过度通行管控等问题 交通运输部回应</a><i class=\"btn-horn-box hide\"><i class=\"btn-horn\" data-tit=\"如何纠正过度通行管控等问题 交通运输部回应\" data-url=\"\"></i></i></span></li>\n",
       "<li> <span><a href=\"http://www.news.cn/fortune/2022-11/25/c_1129160903.htm\" target=\"_blank\">来了！</a><a href=\"http://www.news.cn/enterprise/20221125/c62ff820a10b4cf7af58cd9be514d303/c.html\" target=\"_blank\">2022中国企业家博鳌论坛正式拉开帷幕</a><i class=\"btn-horn-box hide\"><i class=\"btn-horn\" data-tit=\"&lt;a href='http://www.news.cn/fortune/2022-11/25/c_1129160903.htm' target='_blank'&gt;来了！&lt;/a&gt;&lt;a href='http://www.news.cn/enterprise/20221125/c62ff820a10b4cf7af58cd9be514d303/c.html' target='_blank'&gt;2022中国企业家博鳌论坛正式拉开帷幕&lt;/a&gt;\" data-url=\"\"></i></i></span></li>\n",
       "<li> <span><a href=\"http://www.news.cn/sports/Qatar2022\" target=\"_blank\">世界杯丨</a><a href=\"http://www.news.cn/sports/2022-11/26/c_1129161384.htm\" target=\"_blank\">荷兰逼平厄瓜多尔 东道主率先出局</a><br/><a href=\"http://www.news.cn/sports/2022-11/25/c_1129160690.htm\" target=\"_blank\">今日看点：阿根廷关键之战 法国丹麦强强对话</a><i class=\"btn-horn-box hide\"><i class=\"btn-horn\" data-tit=\"&lt;a href='http://www.news.cn/sports/Qatar2022' target='_blank'&gt;世界杯丨&lt;/a&gt;&lt;a href='http://www.news.cn/sports/2022-11/26/c_1129161384.htm' target='_blank'&gt;荷兰逼平厄瓜多尔 东道主率先出局&lt;/a&gt;&lt;br/&gt;&lt;a href='http://www.news.cn/sports/2022-11/25/c_1129160690.htm' target='_blank'&gt;今日看点：阿根廷关键之战 法国丹麦强强对话&lt;/a&gt;\" data-url=\"\"></i></i></span></li>\n",
       "<li> <span><a href=\"http://www.news.cn/world/2022-11/26/c_1129162870.htm\" target=\"_blank\">记者手记：高通胀给美国“黑色星期五”蒙上阴影</a><i class=\"btn-horn-box hide\"><i class=\"btn-horn\" data-tit=\"记者手记：高通胀给美国“黑色星期五”蒙上阴影\" data-url=\"\"></i></i></span></li>\n",
       "</ul>\n",
       "</div>\n",
       "<div class=\"hot\" id=\"focusHotNews\">\n",
       "<a href=\"/depthobserve.htm?type=zhl\" target=\"_blank\">\n",
       "<div class=\"title\"> </div>\n",
       "</a>\n",
       "<ul>\n",
       "<li><a href=\"http://www.news.cn/politics/2022-11/25/c_1129161138.htm\" target=\"_blank\">落实落细，凝聚起抗击疫情的强大合力</a></li>\n",
       "<li><a href=\"http://www.news.cn/politics/2022-11/24/c_1129157544.htm\" target=\"_blank\">不动摇、不走样，掌握战“疫”主动权</a></li>\n",
       "<li><a href=\"http://www.news.cn/comments/20221124/fb968206f5b148c4827946b59ae40d16/c.html\" target=\"_blank\">创新创造 让中国制造“骨骼”更强健</a></li>\n",
       "</ul>\n",
       "</div>\n",
       "</div>"
      ]
     },
     "execution_count": 7,
     "metadata": {},
     "output_type": "execute_result"
    }
   ],
   "source": [
    "div = soup.find('div', attrs={'class':'focus-newsText'})\n",
    "div"
   ]
  },
  {
   "cell_type": "code",
   "execution_count": 8,
   "metadata": {},
   "outputs": [
    {
     "data": {
      "text/plain": [
       "'\\n\\n\\n 习近平同古巴共产党中央委员会第一书记、古巴国家主席迪亚斯-卡内尔举行会谈\\n 跟着总书记学习二十大报告丨全面从严治党永远在路上\\n 瞭望·治国理政纪事丨让一泓清水入黄河\\n 新时代新征程新伟业|“时间银行”里的“银龄”互助\\n 二十大精神在基层丨接过红旗渠精神“接力棒”\\n 新华时评:抗疫,每个人都是自己健康第一责任人\\n 新疆乌鲁木齐市有序恢复低风险区生活秩序\\n 锚定目标不放松——广东打响疫情防控歼灭战\\n 北京分秒必争加固疫情防线 坚决打赢疫情防控阻击战\\n 为了山城人民生命健康——重庆坚决打赢疫情歼灭战综述\\n 如何纠正过度通行管控等问题 交通运输部回应\\n 来了！2022中国企业家博鳌论坛正式拉开帷幕\\n 世界杯丨荷兰逼平厄瓜多尔 东道主率先出局今日看点：阿根廷关键之战 法国丹麦强强对话\\n 记者手记：高通胀给美国“黑色星期五”蒙上阴影\\n\\n\\n\\n\\n \\n\\n\\n落实落细，凝聚起抗击疫情的强大合力\\n不动摇、不走样，掌握战“疫”主动权\\n创新创造 让中国制造“骨骼”更强健\\n\\n\\n'"
      ]
     },
     "execution_count": 8,
     "metadata": {},
     "output_type": "execute_result"
    }
   ],
   "source": [
    "div.text"
   ]
  },
  {
   "cell_type": "code",
   "execution_count": 9,
   "metadata": {},
   "outputs": [
    {
     "data": {
      "text/plain": [
       "<li class=\"active\"> <span><a href=\"http://www.news.cn/world/2022-11/25/c_1129159205.htm\" target=\"_blank\">习近平同古巴共产党中央委员会第一书记、古巴国家主席迪亚斯-卡内尔举行会谈</a><i class=\"btn-horn-box hide\"><i class=\"btn-horn\" data-tit=\"习近平同古巴共产党中央委员会第一书记、古巴国家主席迪亚斯-卡内尔举行会谈\" data-url=\"\"></i></i></span></li>"
      ]
     },
     "execution_count": 9,
     "metadata": {},
     "output_type": "execute_result"
    }
   ],
   "source": [
    "div.div.ul.li"
   ]
  },
  {
   "cell_type": "code",
   "execution_count": 11,
   "metadata": {},
   "outputs": [
    {
     "data": {
      "text/plain": [
       "[<li class=\"active\"> <span><a href=\"http://www.news.cn/world/2022-11/25/c_1129159205.htm\" target=\"_blank\">习近平同古巴共产党中央委员会第一书记、古巴国家主席迪亚斯-卡内尔举行会谈</a><i class=\"btn-horn-box hide\"><i class=\"btn-horn\" data-tit=\"习近平同古巴共产党中央委员会第一书记、古巴国家主席迪亚斯-卡内尔举行会谈\" data-url=\"\"></i></i></span></li>,\n",
       " <li> <span><a href=\"http://www.news.cn/politics/2022-11/26/c_1129162566.htm\" target=\"_blank\">跟着总书记学习二十大报告丨全面从严治党永远在路上</a><i class=\"btn-horn-box hide\"><i class=\"btn-horn\" data-tit=\"跟着总书记学习二十大报告丨全面从严治党永远在路上\" data-url=\"\"></i></i></span></li>,\n",
       " <li> <span><a href=\"http://www.news.cn/politics/2022-11/26/c_1129162158.htm\" target=\"_blank\">瞭望·治国理政纪事丨让一泓清水入黄河</a><i class=\"btn-horn-box hide\"><i class=\"btn-horn\" data-tit=\"瞭望·治国理政纪事丨让一泓清水入黄河\" data-url=\"\"></i></i></span></li>,\n",
       " <li> <span><a href=\"http://www.news.cn/politics/xsdxzcxwy/index.htm\" target=\"_blank\">新时代新征程新伟业|</a><a href=\"http://www.news.cn/politics/2022-11/26/c_1129162132.htm\" target=\"_blank\">“时间银行”里的“银龄”互助</a><i class=\"btn-horn-box hide\"><i class=\"btn-horn\" data-tit=\"&lt;a href='http://www.news.cn/politics/xsdxzcxwy/index.htm' target='_blank'&gt;新时代新征程新伟业|&lt;/a&gt;&lt;a href='http://www.news.cn/politics/2022-11/26/c_1129162132.htm' target='_blank'&gt;“时间银行”里的“银龄”互助&lt;/a&gt;\" data-url=\"\"></i></i></span></li>,\n",
       " <li> <span><a href=\"http://www.news.cn/politics/xxgcdd20djs\" target=\"_blank\">二十大精神在基层丨</a><a href=\"http://www.news.cn/politics/2022-11/25/c_1129159813.htm\" target=\"_blank\">接过红旗渠精神“接力棒”</a><i class=\"btn-horn-box hide\"><i class=\"btn-horn\" data-tit=\"&lt;a href='http://www.news.cn/politics/xxgcdd20djs' target='_blank'&gt;二十大精神在基层丨&lt;/a&gt;&lt;a href='http://www.news.cn/politics/2022-11/25/c_1129159813.htm' target='_blank'&gt;接过红旗渠精神“接力棒”&lt;/a&gt;\" data-url=\"\"></i></i></span></li>,\n",
       " <li> <span><a href=\"http://www.news.cn/politics/2022-11/26/c_1129163002.htm\" target=\"_blank\">新华时评:抗疫,每个人都是自己健康第一责任人</a><i class=\"btn-horn-box hide\"><i class=\"btn-horn\" data-tit=\"新华时评:抗疫,每个人都是自己健康第一责任人\" data-url=\"\"></i></i></span></li>,\n",
       " <li> <span><a href=\"http://www.news.cn/local/2022-11/26/c_1129163039.htm\" target=\"_blank\">新疆乌鲁木齐市有序恢复低风险区生活秩序</a><i class=\"btn-horn-box hide\"><i class=\"btn-horn\" data-tit=\"新疆乌鲁木齐市有序恢复低风险区生活秩序\" data-url=\"\"></i></i></span></li>,\n",
       " <li> <span><a href=\"http://www.news.cn/politics/2022-11/26/c_1129161357.htm\" target=\"_blank\">锚定目标不放松——广东打响疫情防控歼灭战</a><i class=\"btn-horn-box hide\"><i class=\"btn-horn\" data-tit=\"锚定目标不放松——广东打响疫情防控歼灭战\" data-url=\"\"></i></i></span></li>,\n",
       " <li> <span><a href=\"http://www.news.cn/local/2022-11/26/c_1129161351.htm\" target=\"_blank\">北京分秒必争加固疫情防线 坚决打赢疫情防控阻击战</a><i class=\"btn-horn-box hide\"><i class=\"btn-horn\" data-tit=\"北京分秒必争加固疫情防线 坚决打赢疫情防控阻击战\" data-url=\"\"></i></i></span></li>,\n",
       " <li> <span><a href=\"http://www.news.cn/politics/2022-11/26/c_1129161316.htm\" target=\"_blank\">为了山城人民生命健康——重庆坚决打赢疫情<br/>歼灭战综述</a><i class=\"btn-horn-box hide\"><i class=\"btn-horn\" data-tit=\"为了山城人民生命健康——重庆坚决打赢疫情&lt;br/&gt;歼灭战综述\" data-url=\"\"></i></i></span></li>,\n",
       " <li> <span><a href=\"http://www.news.cn/politics/2022-11/25/c_1129160605.htm\" target=\"_blank\">如何纠正过度通行管控等问题 交通运输部回应</a><i class=\"btn-horn-box hide\"><i class=\"btn-horn\" data-tit=\"如何纠正过度通行管控等问题 交通运输部回应\" data-url=\"\"></i></i></span></li>,\n",
       " <li> <span><a href=\"http://www.news.cn/fortune/2022-11/25/c_1129160903.htm\" target=\"_blank\">来了！</a><a href=\"http://www.news.cn/enterprise/20221125/c62ff820a10b4cf7af58cd9be514d303/c.html\" target=\"_blank\">2022中国企业家博鳌论坛正式拉开帷幕</a><i class=\"btn-horn-box hide\"><i class=\"btn-horn\" data-tit=\"&lt;a href='http://www.news.cn/fortune/2022-11/25/c_1129160903.htm' target='_blank'&gt;来了！&lt;/a&gt;&lt;a href='http://www.news.cn/enterprise/20221125/c62ff820a10b4cf7af58cd9be514d303/c.html' target='_blank'&gt;2022中国企业家博鳌论坛正式拉开帷幕&lt;/a&gt;\" data-url=\"\"></i></i></span></li>,\n",
       " <li> <span><a href=\"http://www.news.cn/sports/Qatar2022\" target=\"_blank\">世界杯丨</a><a href=\"http://www.news.cn/sports/2022-11/26/c_1129161384.htm\" target=\"_blank\">荷兰逼平厄瓜多尔 东道主率先出局</a><br/><a href=\"http://www.news.cn/sports/2022-11/25/c_1129160690.htm\" target=\"_blank\">今日看点：阿根廷关键之战 法国丹麦强强对话</a><i class=\"btn-horn-box hide\"><i class=\"btn-horn\" data-tit=\"&lt;a href='http://www.news.cn/sports/Qatar2022' target='_blank'&gt;世界杯丨&lt;/a&gt;&lt;a href='http://www.news.cn/sports/2022-11/26/c_1129161384.htm' target='_blank'&gt;荷兰逼平厄瓜多尔 东道主率先出局&lt;/a&gt;&lt;br/&gt;&lt;a href='http://www.news.cn/sports/2022-11/25/c_1129160690.htm' target='_blank'&gt;今日看点：阿根廷关键之战 法国丹麦强强对话&lt;/a&gt;\" data-url=\"\"></i></i></span></li>,\n",
       " <li> <span><a href=\"http://www.news.cn/world/2022-11/26/c_1129162870.htm\" target=\"_blank\">记者手记：高通胀给美国“黑色星期五”蒙上阴影</a><i class=\"btn-horn-box hide\"><i class=\"btn-horn\" data-tit=\"记者手记：高通胀给美国“黑色星期五”蒙上阴影\" data-url=\"\"></i></i></span></li>]"
      ]
     },
     "execution_count": 11,
     "metadata": {},
     "output_type": "execute_result"
    }
   ],
   "source": [
    "l_news = div.div.ul.find_all('li')\n",
    "l_news"
   ]
  },
  {
   "cell_type": "code",
   "execution_count": 13,
   "metadata": {},
   "outputs": [
    {
     "data": {
      "text/plain": [
       "'习近平同古巴共产党中央委员会第一书记、古巴国家主席迪亚斯-卡内尔举行会谈'"
      ]
     },
     "execution_count": 13,
     "metadata": {},
     "output_type": "execute_result"
    }
   ],
   "source": [
    "l_news[0].text.strip()"
   ]
  },
  {
   "cell_type": "code",
   "execution_count": 14,
   "metadata": {},
   "outputs": [
    {
     "name": "stdout",
     "output_type": "stream",
     "text": [
      "['习近平同古巴共产党中央委员会第一书记、古巴国家主席迪亚斯-卡内尔举行会谈', '跟着总书记学习二十大报告丨全面从严治党永远在路上', '瞭望·治国理政纪事丨让一泓清水入黄河', '新时代新征程新伟业|“时间银行”里的“银龄”互助', '二十大精神在基层丨接过红旗渠精神“接力棒”', '新华时评:抗疫,每个人都是自己健康第一责任人', '新疆乌鲁木齐市有序恢复低风险区生活秩序', '锚定目标不放松——广东打响疫情防控歼灭战', '北京分秒必争加固疫情防线 坚决打赢疫情防控阻击战', '为了山城人民生命健康——重庆坚决打赢疫情歼灭战综述', '如何纠正过度通行管控等问题 交通运输部回应', '来了！2022中国企业家博鳌论坛正式拉开帷幕', '世界杯丨荷兰逼平厄瓜多尔 东道主率先出局今日看点：阿根廷关键之战 法国丹麦强强对话', '记者手记：高通胀给美国“黑色星期五”蒙上阴影']\n"
     ]
    }
   ],
   "source": [
    "l_news_processed = []\n",
    "for news in l_news:\n",
    "    l_news_processed.append(news.text.strip())\n",
    "print(l_news_processed)"
   ]
  },
  {
   "cell_type": "code",
   "execution_count": 15,
   "metadata": {},
   "outputs": [],
   "source": [
    "with open ('news.txt','w') as f:\n",
    "    for news in l_news_processed:\n",
    "        f.write(news)\n",
    "        f.write('\\n')"
   ]
  },
  {
   "cell_type": "code",
   "execution_count": 18,
   "metadata": {},
   "outputs": [
    {
     "data": {
      "text/plain": [
       "'http://www.news.cn/world/2022-11/25/c_1129159205.htm'"
      ]
     },
     "execution_count": 18,
     "metadata": {},
     "output_type": "execute_result"
    }
   ],
   "source": [
    "l_news[0].span.a['href']"
   ]
  },
  {
   "cell_type": "code",
   "execution_count": 22,
   "metadata": {},
   "outputs": [
    {
     "name": "stdout",
     "output_type": "stream",
     "text": [
      "['http://www.news.cn/world/2022-11/25/c_1129159205.htm', 'http://www.news.cn/politics/2022-11/26/c_1129162566.htm', 'http://www.news.cn/politics/2022-11/26/c_1129162158.htm', 'http://www.news.cn/politics/xsdxzcxwy/index.htm', 'http://www.news.cn/politics/xxgcdd20djs', 'http://www.news.cn/politics/2022-11/26/c_1129163002.htm', 'http://www.news.cn/local/2022-11/26/c_1129163039.htm', 'http://www.news.cn/politics/2022-11/26/c_1129161357.htm', 'http://www.news.cn/local/2022-11/26/c_1129161351.htm', 'http://www.news.cn/politics/2022-11/26/c_1129161316.htm', 'http://www.news.cn/politics/2022-11/25/c_1129160605.htm', 'http://www.news.cn/fortune/2022-11/25/c_1129160903.htm', 'http://www.news.cn/sports/Qatar2022', 'http://www.news.cn/world/2022-11/26/c_1129162870.htm']\n"
     ]
    }
   ],
   "source": [
    "l_news_link = []\n",
    "for news in l_news:\n",
    "    l_news_link.append(news.span.a['href'])\n",
    "print(l_news_link)"
   ]
  },
  {
   "cell_type": "code",
   "execution_count": 25,
   "metadata": {},
   "outputs": [
    {
     "name": "stdout",
     "output_type": "stream",
     "text": [
      "['http://www.news.cn/world/2022-11/25/c_1129159205.htm', 'http://www.news.cn/politics/2022-11/26/c_1129162566.htm', 'http://www.news.cn/politics/2022-11/26/c_1129162158.htm', 'http://www.news.cn/politics/2022-11/26/c_1129163002.htm', 'http://www.news.cn/local/2022-11/26/c_1129163039.htm', 'http://www.news.cn/politics/2022-11/26/c_1129161357.htm', 'http://www.news.cn/local/2022-11/26/c_1129161351.htm', 'http://www.news.cn/politics/2022-11/26/c_1129161316.htm', 'http://www.news.cn/politics/2022-11/25/c_1129160605.htm', 'http://www.news.cn/fortune/2022-11/25/c_1129160903.htm', 'http://www.news.cn/world/2022-11/26/c_1129162870.htm']\n"
     ]
    }
   ],
   "source": [
    "l_news_link_1 = [] \n",
    "for item in l_news_link:\n",
    "    if item.endswith('index.htm'):\n",
    "        continue\n",
    "    if item.endswith('.htm') or item.endswith('.html'):\n",
    "        l_news_link_1.append(item)\n",
    "print(l_news_link_1)"
   ]
  },
  {
   "cell_type": "code",
   "execution_count": 26,
   "metadata": {},
   "outputs": [],
   "source": [
    "url2 = l_news_link_1[-1]\n",
    "response2 = requests.get(url2)\n"
   ]
  },
  {
   "cell_type": "code",
   "execution_count": 27,
   "metadata": {},
   "outputs": [],
   "source": [
    "soup = BeautifulSoup(response2.text)"
   ]
  },
  {
   "cell_type": "code",
   "execution_count": 33,
   "metadata": {},
   "outputs": [
    {
     "name": "stdout",
     "output_type": "stream",
     "text": [
      "<p>　　新华社华盛顿11月25日电  <strong><font color=\"navy\">记者手记：高通胀给美国“黑色星期五”蒙上阴影</font></strong></p>\n"
     ]
    }
   ],
   "source": [
    "text = soup.find('div',attrs={'id':'detail'}).text.replace('\\u2003','')"
   ]
  },
  {
   "cell_type": "code",
   "execution_count": 36,
   "metadata": {},
   "outputs": [],
   "source": [
    "def get_content(url:str,index:int) -> None: # → None为return的意思，None可以改成int，返回整形\n",
    "    response = requests.get(url)\n",
    "    soup = BeautifulSoup(response.text)\n",
    "    text = soup.find('div',attrs={'id':'detail'}).text.replace('\\u2003','')"
   ]
  }
 ],
 "metadata": {
  "kernelspec": {
   "display_name": "Python 3",
   "language": "python",
   "name": "python3"
  },
  "language_info": {
   "codemirror_mode": {
    "name": "ipython",
    "version": 3
   },
   "file_extension": ".py",
   "mimetype": "text/x-python",
   "name": "python",
   "nbconvert_exporter": "python",
   "pygments_lexer": "ipython3",
   "version": "3.8.3"
  }
 },
 "nbformat": 4,
 "nbformat_minor": 4
}
